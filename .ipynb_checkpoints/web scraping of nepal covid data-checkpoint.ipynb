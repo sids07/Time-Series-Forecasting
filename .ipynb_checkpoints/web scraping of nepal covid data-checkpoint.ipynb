{
 "cells": [
  {
   "cell_type": "code",
   "execution_count": 1,
   "metadata": {},
   "outputs": [],
   "source": [
    "import requests\n",
    "import numpy as np\n",
    "import pandas as pd\n",
    "\n",
    "from bs4 import BeautifulSoup"
   ]
  },
  {
   "cell_type": "markdown",
   "metadata": {},
   "source": [
    "### See Web Page"
   ]
  },
  {
   "cell_type": "code",
   "execution_count": 2,
   "metadata": {},
   "outputs": [],
   "source": [
    "URL =  \"https://coronanepal.live/\"\n",
    "\n",
    "html_page = requests.get(URL).text"
   ]
  },
  {
   "cell_type": "code",
   "execution_count": 3,
   "metadata": {},
   "outputs": [],
   "source": [
    "#can uncomment below text to see output\n",
    "#html_page"
   ]
  },
  {
   "cell_type": "markdown",
   "metadata": {},
   "source": [
    "### Convert them into html format\n",
    "\n",
    "i.e. < !DOCTYPE html > type"
   ]
  },
  {
   "cell_type": "code",
   "execution_count": 4,
   "metadata": {},
   "outputs": [],
   "source": [
    "soup = BeautifulSoup(html_page,'html.parser')\n",
    "#print(soup)\n"
   ]
  },
  {
   "cell_type": "markdown",
   "metadata": {},
   "source": [
    "## Data of various districts"
   ]
  },
  {
   "cell_type": "markdown",
   "metadata": {},
   "source": [
    "#### Now on the site we want to scrap we must inspect the page i.e. F12 and find out the id of the table we want to scrape"
   ]
  },
  {
   "cell_type": "code",
   "execution_count": 5,
   "metadata": {},
   "outputs": [],
   "source": [
    "#example is the html id of the table we want to scrape\n",
    "get_table = soup.find(\"table\",id='example')\n",
    "\n",
    "#get_table"
   ]
  },
  {
   "cell_type": "code",
   "execution_count": 6,
   "metadata": {},
   "outputs": [],
   "source": [
    "#geting body under tag <tr> and </tr>\n",
    "get_table_data = get_table.tbody.find_all(\"tr\")\n",
    "\n",
    "#get_table_data"
   ]
  },
  {
   "cell_type": "code",
   "execution_count": 7,
   "metadata": {},
   "outputs": [
    {
     "data": {
      "text/html": [
       "<div>\n",
       "<style scoped>\n",
       "    .dataframe tbody tr th:only-of-type {\n",
       "        vertical-align: middle;\n",
       "    }\n",
       "\n",
       "    .dataframe tbody tr th {\n",
       "        vertical-align: top;\n",
       "    }\n",
       "\n",
       "    .dataframe thead th {\n",
       "        text-align: right;\n",
       "    }\n",
       "</style>\n",
       "<table border=\"1\" class=\"dataframe\">\n",
       "  <thead>\n",
       "    <tr style=\"text-align: right;\">\n",
       "      <th></th>\n",
       "      <th>कुल संक्रमित</th>\n",
       "      <th>जम्मा मृत्यु</th>\n",
       "      <th>निको भएको</th>\n",
       "    </tr>\n",
       "  </thead>\n",
       "  <tbody>\n",
       "    <tr>\n",
       "      <td>अछाम</td>\n",
       "      <td>६४६</td>\n",
       "      <td>१</td>\n",
       "      <td>७</td>\n",
       "    </tr>\n",
       "    <tr>\n",
       "      <td>अर्घाखाँची</td>\n",
       "      <td>३४१</td>\n",
       "      <td>२</td>\n",
       "      <td>२</td>\n",
       "    </tr>\n",
       "    <tr>\n",
       "      <td>बाग्लुङ</td>\n",
       "      <td>२२६</td>\n",
       "      <td>१</td>\n",
       "      <td>१३</td>\n",
       "    </tr>\n",
       "    <tr>\n",
       "      <td>बैतडी</td>\n",
       "      <td>२७६</td>\n",
       "      <td>०</td>\n",
       "      <td>५</td>\n",
       "    </tr>\n",
       "    <tr>\n",
       "      <td>बझाङ</td>\n",
       "      <td>१७३</td>\n",
       "      <td>०</td>\n",
       "      <td>१</td>\n",
       "    </tr>\n",
       "    <tr>\n",
       "      <td>...</td>\n",
       "      <td>...</td>\n",
       "      <td>...</td>\n",
       "      <td>...</td>\n",
       "    </tr>\n",
       "    <tr>\n",
       "      <td>उदयपुर</td>\n",
       "      <td>८२</td>\n",
       "      <td>०</td>\n",
       "      <td>३८</td>\n",
       "    </tr>\n",
       "    <tr>\n",
       "      <td>काठमाडौं</td>\n",
       "      <td>२४५</td>\n",
       "      <td>३</td>\n",
       "      <td>२९</td>\n",
       "    </tr>\n",
       "    <tr>\n",
       "      <td>भक्तपुर</td>\n",
       "      <td>४६</td>\n",
       "      <td>०</td>\n",
       "      <td>८</td>\n",
       "    </tr>\n",
       "    <tr>\n",
       "      <td>ललितपुर</td>\n",
       "      <td>७७</td>\n",
       "      <td>२</td>\n",
       "      <td>२</td>\n",
       "    </tr>\n",
       "    <tr>\n",
       "      <td>रुकुम पश्चिम</td>\n",
       "      <td>३८</td>\n",
       "      <td>०</td>\n",
       "      <td>०</td>\n",
       "    </tr>\n",
       "  </tbody>\n",
       "</table>\n",
       "<p>77 rows × 3 columns</p>\n",
       "</div>"
      ],
      "text/plain": [
       "             कुल संक्रमित जम्मा मृत्यु निको भएको\n",
       "अछाम                 ६४६           १          ७ \n",
       "अर्घाखाँची           ३४१           २          २ \n",
       "बाग्लुङ              २२६           १         १३ \n",
       "बैतडी                २७६           ०          ५ \n",
       "बझाङ                 १७३           ०          १ \n",
       "...                   ...          ...       ...\n",
       "उदयपुर                ८२           ०         ३८ \n",
       "काठमाडौं             २४५           ३         २९ \n",
       "भक्तपुर               ४६           ०          ८ \n",
       "ललितपुर               ७७           २          २ \n",
       "रुकुम पश्चिम          ३८           ०          ० \n",
       "\n",
       "[77 rows x 3 columns]"
      ]
     },
     "execution_count": 7,
     "metadata": {},
     "output_type": "execute_result"
    }
   ],
   "source": [
    "#for easiness of converting to dataframe we chose dic\n",
    "dic = {}\n",
    "\n",
    "for i in range(len(get_table_data)):\n",
    "    #all td is one digit list so [0] will bring out the value and string gives the required district name\n",
    "    key = get_table_data[i].find_all(\"td\")[0].string\n",
    "    #print(key)\n",
    "    \n",
    "    #gives all the values including some unrequired value but it can be easily modified by pandas \n",
    "    values = [a.string for a in get_table_data[i].find_all(\"td\")]\n",
    "    #print(key,values)\n",
    "    dic[key] = values\n",
    "    \n",
    "data=pd.DataFrame(dic).iloc[3:,:].T   \n",
    "data.index_name='जिल्ला'\n",
    "columns_name = ['कुल संक्रमित','जम्मा मृत्यु','निको भएको']\n",
    "data.columns = columns_name\n",
    "data"
   ]
  },
  {
   "cell_type": "code",
   "execution_count": 8,
   "metadata": {},
   "outputs": [
    {
     "data": {
      "text/html": [
       "<div>\n",
       "<style scoped>\n",
       "    .dataframe tbody tr th:only-of-type {\n",
       "        vertical-align: middle;\n",
       "    }\n",
       "\n",
       "    .dataframe tbody tr th {\n",
       "        vertical-align: top;\n",
       "    }\n",
       "\n",
       "    .dataframe thead th {\n",
       "        text-align: right;\n",
       "    }\n",
       "</style>\n",
       "<table border=\"1\" class=\"dataframe\">\n",
       "  <thead>\n",
       "    <tr style=\"text-align: right;\">\n",
       "      <th></th>\n",
       "      <th>कुल संक्रमित</th>\n",
       "      <th>जम्मा मृत्यु</th>\n",
       "      <th>निको भएको</th>\n",
       "    </tr>\n",
       "  </thead>\n",
       "  <tbody>\n",
       "    <tr>\n",
       "      <td>अछाम</td>\n",
       "      <td>६४६</td>\n",
       "      <td>१</td>\n",
       "      <td>७</td>\n",
       "    </tr>\n",
       "    <tr>\n",
       "      <td>अर्घाखाँची</td>\n",
       "      <td>३४१</td>\n",
       "      <td>२</td>\n",
       "      <td>२</td>\n",
       "    </tr>\n",
       "    <tr>\n",
       "      <td>बाग्लुङ</td>\n",
       "      <td>२२६</td>\n",
       "      <td>१</td>\n",
       "      <td>१३</td>\n",
       "    </tr>\n",
       "    <tr>\n",
       "      <td>बैतडी</td>\n",
       "      <td>२७६</td>\n",
       "      <td>०</td>\n",
       "      <td>५</td>\n",
       "    </tr>\n",
       "    <tr>\n",
       "      <td>बझाङ</td>\n",
       "      <td>१७३</td>\n",
       "      <td>०</td>\n",
       "      <td>१</td>\n",
       "    </tr>\n",
       "  </tbody>\n",
       "</table>\n",
       "</div>"
      ],
      "text/plain": [
       "           कुल संक्रमित जम्मा मृत्यु निको भएको\n",
       "अछाम               ६४६           १          ७ \n",
       "अर्घाखाँची         ३४१           २          २ \n",
       "बाग्लुङ            २२६           १         १३ \n",
       "बैतडी              २७६           ०          ५ \n",
       "बझाङ               १७३           ०          १ "
      ]
     },
     "execution_count": 8,
     "metadata": {},
     "output_type": "execute_result"
    }
   ],
   "source": [
    "data.head()"
   ]
  },
  {
   "cell_type": "code",
   "execution_count": 9,
   "metadata": {},
   "outputs": [
    {
     "data": {
      "text/html": [
       "<div>\n",
       "<style scoped>\n",
       "    .dataframe tbody tr th:only-of-type {\n",
       "        vertical-align: middle;\n",
       "    }\n",
       "\n",
       "    .dataframe tbody tr th {\n",
       "        vertical-align: top;\n",
       "    }\n",
       "\n",
       "    .dataframe thead th {\n",
       "        text-align: right;\n",
       "    }\n",
       "</style>\n",
       "<table border=\"1\" class=\"dataframe\">\n",
       "  <thead>\n",
       "    <tr style=\"text-align: right;\">\n",
       "      <th></th>\n",
       "      <th>कुल संक्रमित</th>\n",
       "      <th>जम्मा मृत्यु</th>\n",
       "      <th>निको भएको</th>\n",
       "    </tr>\n",
       "  </thead>\n",
       "  <tbody>\n",
       "    <tr>\n",
       "      <td>उदयपुर</td>\n",
       "      <td>८२</td>\n",
       "      <td>०</td>\n",
       "      <td>३८</td>\n",
       "    </tr>\n",
       "    <tr>\n",
       "      <td>काठमाडौं</td>\n",
       "      <td>२४५</td>\n",
       "      <td>३</td>\n",
       "      <td>२९</td>\n",
       "    </tr>\n",
       "    <tr>\n",
       "      <td>भक्तपुर</td>\n",
       "      <td>४६</td>\n",
       "      <td>०</td>\n",
       "      <td>८</td>\n",
       "    </tr>\n",
       "    <tr>\n",
       "      <td>ललितपुर</td>\n",
       "      <td>७७</td>\n",
       "      <td>२</td>\n",
       "      <td>२</td>\n",
       "    </tr>\n",
       "    <tr>\n",
       "      <td>रुकुम पश्चिम</td>\n",
       "      <td>३८</td>\n",
       "      <td>०</td>\n",
       "      <td>०</td>\n",
       "    </tr>\n",
       "  </tbody>\n",
       "</table>\n",
       "</div>"
      ],
      "text/plain": [
       "             कुल संक्रमित जम्मा मृत्यु निको भएको\n",
       "उदयपुर                ८२           ०         ३८ \n",
       "काठमाडौं             २४५           ३         २९ \n",
       "भक्तपुर               ४६           ०          ८ \n",
       "ललितपुर               ७७           २          २ \n",
       "रुकुम पश्चिम          ३८           ०          ० "
      ]
     },
     "execution_count": 9,
     "metadata": {},
     "output_type": "execute_result"
    }
   ],
   "source": [
    "data.tail()"
   ]
  },
  {
   "cell_type": "code",
   "execution_count": 10,
   "metadata": {},
   "outputs": [
    {
     "name": "stdout",
     "output_type": "stream",
     "text": [
      "<class 'pandas.core.frame.DataFrame'>\n",
      "Index: 77 entries, अछाम to रुकुम पश्चिम\n",
      "Data columns (total 3 columns):\n",
      "कुल संक्रमित    77 non-null object\n",
      "जम्मा मृत्यु    77 non-null object\n",
      "निको भएको       77 non-null object\n",
      "dtypes: object(3)\n",
      "memory usage: 2.4+ KB\n"
     ]
    }
   ],
   "source": [
    "data.info()"
   ]
  },
  {
   "cell_type": "code",
   "execution_count": 11,
   "metadata": {},
   "outputs": [
    {
     "data": {
      "text/html": [
       "<div>\n",
       "<style scoped>\n",
       "    .dataframe tbody tr th:only-of-type {\n",
       "        vertical-align: middle;\n",
       "    }\n",
       "\n",
       "    .dataframe tbody tr th {\n",
       "        vertical-align: top;\n",
       "    }\n",
       "\n",
       "    .dataframe thead th {\n",
       "        text-align: right;\n",
       "    }\n",
       "</style>\n",
       "<table border=\"1\" class=\"dataframe\">\n",
       "  <thead>\n",
       "    <tr style=\"text-align: right;\">\n",
       "      <th></th>\n",
       "      <th>कुल संक्रमित</th>\n",
       "      <th>जम्मा मृत्यु</th>\n",
       "      <th>निको भएको</th>\n",
       "    </tr>\n",
       "  </thead>\n",
       "  <tbody>\n",
       "    <tr>\n",
       "      <td>count</td>\n",
       "      <td>77</td>\n",
       "      <td>77</td>\n",
       "      <td>77</td>\n",
       "    </tr>\n",
       "    <tr>\n",
       "      <td>unique</td>\n",
       "      <td>71</td>\n",
       "      <td>5</td>\n",
       "      <td>44</td>\n",
       "    </tr>\n",
       "    <tr>\n",
       "      <td>top</td>\n",
       "      <td>६</td>\n",
       "      <td>०</td>\n",
       "      <td>१</td>\n",
       "    </tr>\n",
       "    <tr>\n",
       "      <td>freq</td>\n",
       "      <td>3</td>\n",
       "      <td>52</td>\n",
       "      <td>8</td>\n",
       "    </tr>\n",
       "  </tbody>\n",
       "</table>\n",
       "</div>"
      ],
      "text/plain": [
       "       कुल संक्रमित जम्मा मृत्यु निको भएको\n",
       "count            77           77        77\n",
       "unique           71            5        44\n",
       "top              ६           ०          १ \n",
       "freq              3           52         8"
      ]
     },
     "execution_count": 11,
     "metadata": {},
     "output_type": "execute_result"
    }
   ],
   "source": [
    "data.describe()"
   ]
  },
  {
   "cell_type": "markdown",
   "metadata": {},
   "source": [
    "## Total data of Nepal and World"
   ]
  },
  {
   "cell_type": "code",
   "execution_count": 12,
   "metadata": {},
   "outputs": [],
   "source": [
    "get_table_1 = soup.findAll('div',attrs={'class':'col-lg-3'})\n",
    "get_table_1=get_table_1[2]"
   ]
  },
  {
   "cell_type": "code",
   "execution_count": 13,
   "metadata": {},
   "outputs": [],
   "source": [
    "#get_table_1"
   ]
  },
  {
   "cell_type": "code",
   "execution_count": 14,
   "metadata": {},
   "outputs": [
    {
     "data": {
      "text/plain": [
       "[<h4 style=\"margin-top:10px;font-weight: 600!important;font-size:4vh!important;\"><img src=\"/static/img/nepal_logo.png\" style=\"width:40px;margin-top:-20px; margin-right:10px;\"/>\tनेपाल</h4>,\n",
       " <h4 style=\"margin-top:10px;\">जम्मा परीक्षण</h4>,\n",
       " <h1 style=\"color:white;\">३८२,४०९</h1>,\n",
       " <h4 style=\"margin-top:10px;\">जम्मा संक्रमित</h4>,\n",
       " <h1 style=\"color:#f38a03\">२०,०८६</h1>,\n",
       " <h4 style=\"margin-top:10px;\">कूल मृत्यु</h4>,\n",
       " <h1 style=\"color:#e60000 !important;\">५६</h1>,\n",
       " <h4 style=\"margin-top:10px;\">निको भएको</h4>,\n",
       " <h1 style=\"color:#70a800 !important;\">१४,४९२</h1>,\n",
       " <h4 style=\"margin-top:10px;font-weight: 600!important;font-size:4vh!important;\"><img src=\"/static/img/globe_logo.png\" style=\"width:40px;margin-top:-10px; margin-right:10px;\"/>\tविश्व</h4>,\n",
       " <h4 style=\"margin-top:10px;\">जम्मा संक्रमित</h4>,\n",
       " <h1 style=\"color:#f38a03\">१८,०४५,५६८</h1>,\n",
       " <h4 style=\"margin-top:10px;\">कूल मृत्यु</h4>,\n",
       " <h1 style=\"color:#e60000 !important;\">६८९,२०९</h1>,\n",
       " <h4 style=\"margin-top:10px;\">निको भएको</h4>,\n",
       " <h1 style=\"color:#70a800 !important;\">११,३४३,७७९</h1>]"
      ]
     },
     "execution_count": 14,
     "metadata": {},
     "output_type": "execute_result"
    }
   ],
   "source": [
    "get_table_data_1 = get_table_1.find_all([\"h4\",'h1'])\n",
    "get_table_data_1"
   ]
  },
  {
   "cell_type": "code",
   "execution_count": 15,
   "metadata": {
    "scrolled": true
   },
   "outputs": [],
   "source": [
    "country = []\n",
    "data2=[]\n",
    "for i in range(len(get_table_data_1)):\n",
    "    if i == 0 or i ==9:\n",
    "        country.append(get_table_data_1[i].text)\n",
    "    else:    \n",
    "        value = get_table_data_1[i].text\n",
    "        data2.append(value)"
   ]
  },
  {
   "cell_type": "code",
   "execution_count": 16,
   "metadata": {},
   "outputs": [
    {
     "data": {
      "text/plain": [
       "['\\tनेपाल', '\\tविश्व']"
      ]
     },
     "execution_count": 16,
     "metadata": {},
     "output_type": "execute_result"
    }
   ],
   "source": [
    "country"
   ]
  },
  {
   "cell_type": "code",
   "execution_count": 17,
   "metadata": {},
   "outputs": [
    {
     "data": {
      "text/plain": [
       "['जम्मा परीक्षण',\n",
       " '३८२,४०९',\n",
       " 'जम्मा संक्रमित',\n",
       " '२०,०८६',\n",
       " 'कूल मृत्यु',\n",
       " '५६',\n",
       " 'निको भएको',\n",
       " '१४,४९२',\n",
       " 'जम्मा संक्रमित',\n",
       " '१८,०४५,५६८',\n",
       " 'कूल मृत्यु',\n",
       " '६८९,२०९',\n",
       " 'निको भएको',\n",
       " '११,३४३,७७९']"
      ]
     },
     "execution_count": 17,
     "metadata": {},
     "output_type": "execute_result"
    }
   ],
   "source": [
    "data2"
   ]
  },
  {
   "cell_type": "code",
   "execution_count": 18,
   "metadata": {},
   "outputs": [],
   "source": [
    "dic2={}\n",
    "for i in range(0,7,2):\n",
    "    key = data2[i]\n",
    "    value = data2[i+1]\n",
    "    dic2[key]=value"
   ]
  },
  {
   "cell_type": "code",
   "execution_count": 19,
   "metadata": {},
   "outputs": [
    {
     "data": {
      "text/plain": [
       "{'जम्मा परीक्षण': '३८२,४०९',\n",
       " 'जम्मा संक्रमित': '२०,०८६',\n",
       " 'कूल मृत्यु': '५६',\n",
       " 'निको भएको': '१४,४९२'}"
      ]
     },
     "execution_count": 19,
     "metadata": {},
     "output_type": "execute_result"
    }
   ],
   "source": [
    "dic2"
   ]
  },
  {
   "cell_type": "code",
   "execution_count": 20,
   "metadata": {},
   "outputs": [],
   "source": [
    "dic3={}\n",
    "for i in range(8,len(data2)-1,2):\n",
    "    key = data2[i]\n",
    "    value = data2[i+1]\n",
    "    dic3[key]=value"
   ]
  },
  {
   "cell_type": "code",
   "execution_count": 21,
   "metadata": {},
   "outputs": [
    {
     "data": {
      "text/plain": [
       "{'जम्मा संक्रमित': '१८,०४५,५६८',\n",
       " 'कूल मृत्यु': '६८९,२०९',\n",
       " 'निको भएको': '११,३४३,७७९'}"
      ]
     },
     "execution_count": 21,
     "metadata": {},
     "output_type": "execute_result"
    }
   ],
   "source": [
    "dic3"
   ]
  },
  {
   "cell_type": "code",
   "execution_count": 22,
   "metadata": {},
   "outputs": [],
   "source": [
    "data2=pd.DataFrame([dic2,dic3]).T"
   ]
  },
  {
   "cell_type": "code",
   "execution_count": 23,
   "metadata": {},
   "outputs": [],
   "source": [
    "data2.columns = country"
   ]
  },
  {
   "cell_type": "code",
   "execution_count": 24,
   "metadata": {},
   "outputs": [
    {
     "data": {
      "text/html": [
       "<div>\n",
       "<style scoped>\n",
       "    .dataframe tbody tr th:only-of-type {\n",
       "        vertical-align: middle;\n",
       "    }\n",
       "\n",
       "    .dataframe tbody tr th {\n",
       "        vertical-align: top;\n",
       "    }\n",
       "\n",
       "    .dataframe thead th {\n",
       "        text-align: right;\n",
       "    }\n",
       "</style>\n",
       "<table border=\"1\" class=\"dataframe\">\n",
       "  <thead>\n",
       "    <tr style=\"text-align: right;\">\n",
       "      <th></th>\n",
       "      <th>जम्मा परीक्षण</th>\n",
       "      <th>जम्मा संक्रमित</th>\n",
       "      <th>कूल मृत्यु</th>\n",
       "      <th>निको भएको</th>\n",
       "    </tr>\n",
       "  </thead>\n",
       "  <tbody>\n",
       "    <tr>\n",
       "      <td>\\tनेपाल</td>\n",
       "      <td>३८२,४०९</td>\n",
       "      <td>२०,०८६</td>\n",
       "      <td>५६</td>\n",
       "      <td>१४,४९२</td>\n",
       "    </tr>\n",
       "    <tr>\n",
       "      <td>\\tविश्व</td>\n",
       "      <td>NaN</td>\n",
       "      <td>१८,०४५,५६८</td>\n",
       "      <td>६८९,२०९</td>\n",
       "      <td>११,३४३,७७९</td>\n",
       "    </tr>\n",
       "  </tbody>\n",
       "</table>\n",
       "</div>"
      ],
      "text/plain": [
       "        जम्मा परीक्षण जम्मा संक्रमित कूल मृत्यु   निको भएको\n",
       "\\tनेपाल       ३८२,४०९         २०,०८६         ५६      १४,४९२\n",
       "\\tविश्व           NaN     १८,०४५,५६८    ६८९,२०९  ११,३४३,७७९"
      ]
     },
     "execution_count": 24,
     "metadata": {},
     "output_type": "execute_result"
    }
   ],
   "source": [
    "data2.T"
   ]
  },
  {
   "cell_type": "markdown",
   "metadata": {},
   "source": [
    "## Gender  Based on Nepal\n"
   ]
  },
  {
   "cell_type": "code",
   "execution_count": 25,
   "metadata": {},
   "outputs": [],
   "source": [
    "get_table_2 = soup.findAll('div',attrs={'class':'col-lg-6'})\n",
    "get_table_2=get_table_2[2]"
   ]
  },
  {
   "cell_type": "code",
   "execution_count": 26,
   "metadata": {},
   "outputs": [
    {
     "data": {
      "text/plain": [
       "[<h4 style=\"color:white;margin-top:10px;font-weight: 600!important;font-size:3.5vh!important;\">लिङ्गका आधारमा</h4>,\n",
       " <h4 style=\"color:#1f81ff;margin-top:10px;font-weight: 600!important;font-size:3.5vh!important;\">महिला</h4>,\n",
       " <h4 style=\"color:#ff6cc6!important;margin-top:10px;font-weight: 600!important;font-size:100px!important;line-height: 0.6;\">१४९२<br/><span style=\"font-size:40px;\">(११.०%)</span> </h4>,\n",
       " <h4 style=\"color:#1f81ff;margin-top:10px;font-weight: 600!important;font-size:3.5vh!important;\">पुरूष</h4>,\n",
       " <h4 style=\"color:#1f81ff!important;margin-top:10px;font-weight: 600!important;font-size:100px!important;line-height: 0.6;\">१२०७२<br/><span style=\"font-size:40px;\">(८९.०%)</span></h4>]"
      ]
     },
     "execution_count": 26,
     "metadata": {},
     "output_type": "execute_result"
    }
   ],
   "source": [
    "get_table_data_2 = get_table_2.find_all(\"h4\")\n",
    "get_table_data_2"
   ]
  },
  {
   "cell_type": "code",
   "execution_count": 27,
   "metadata": {},
   "outputs": [
    {
     "name": "stdout",
     "output_type": "stream",
     "text": [
      "['महिला', '१४९२(११.०% ', 'पुरूष', '१२०७२(८९.०%']\n"
     ]
    }
   ],
   "source": [
    "l = []\n",
    "for i in range(1,len(get_table_data_2)):\n",
    "    l.append(get_table_data_2[i].text.replace(')',\"\"))\n",
    "print(l)"
   ]
  },
  {
   "cell_type": "code",
   "execution_count": 28,
   "metadata": {},
   "outputs": [],
   "source": [
    "for i in range(1,len(l),2):\n",
    "    l[i]= (l[i].split('('))"
   ]
  },
  {
   "cell_type": "code",
   "execution_count": 29,
   "metadata": {},
   "outputs": [
    {
     "data": {
      "text/plain": [
       "['महिला', ['१४९२', '११.०% '], 'पुरूष', ['१२०७२', '८९.०%']]"
      ]
     },
     "execution_count": 29,
     "metadata": {},
     "output_type": "execute_result"
    }
   ],
   "source": [
    "l"
   ]
  },
  {
   "cell_type": "code",
   "execution_count": 30,
   "metadata": {},
   "outputs": [
    {
     "data": {
      "text/plain": [
       "{'महिला': ['१४९२', '११.०% '], 'पुरूष': ['१२०७२', '८९.०%']}"
      ]
     },
     "execution_count": 30,
     "metadata": {},
     "output_type": "execute_result"
    }
   ],
   "source": [
    "dic3={}\n",
    "for i in range(0,len(l)-1,2):\n",
    "    key = l[i]\n",
    "    value = l[i+1]\n",
    "    dic3[key] = value\n",
    "dic3"
   ]
  },
  {
   "cell_type": "code",
   "execution_count": 31,
   "metadata": {},
   "outputs": [],
   "source": [
    "data3=pd.DataFrame(dic3).T"
   ]
  },
  {
   "cell_type": "code",
   "execution_count": 32,
   "metadata": {},
   "outputs": [
    {
     "data": {
      "text/html": [
       "<div>\n",
       "<style scoped>\n",
       "    .dataframe tbody tr th:only-of-type {\n",
       "        vertical-align: middle;\n",
       "    }\n",
       "\n",
       "    .dataframe tbody tr th {\n",
       "        vertical-align: top;\n",
       "    }\n",
       "\n",
       "    .dataframe thead th {\n",
       "        text-align: right;\n",
       "    }\n",
       "</style>\n",
       "<table border=\"1\" class=\"dataframe\">\n",
       "  <thead>\n",
       "    <tr style=\"text-align: right;\">\n",
       "      <th></th>\n",
       "      <th>जम्मा संक्रमित</th>\n",
       "      <th>संक्रमित प्रतिशत</th>\n",
       "    </tr>\n",
       "  </thead>\n",
       "  <tbody>\n",
       "    <tr>\n",
       "      <td>महिला</td>\n",
       "      <td>१४९२</td>\n",
       "      <td>११.०%</td>\n",
       "    </tr>\n",
       "    <tr>\n",
       "      <td>पुरूष</td>\n",
       "      <td>१२०७२</td>\n",
       "      <td>८९.०%</td>\n",
       "    </tr>\n",
       "  </tbody>\n",
       "</table>\n",
       "</div>"
      ],
      "text/plain": [
       "      जम्मा संक्रमित संक्रमित प्रतिशत\n",
       "महिला           १४९२           ११.०% \n",
       "पुरूष          १२०७२            ८९.०%"
      ]
     },
     "execution_count": 32,
     "metadata": {},
     "output_type": "execute_result"
    }
   ],
   "source": [
    "columns = ['जम्मा संक्रमित',\"संक्रमित प्रतिशत\"]\n",
    "data3.columns = columns\n",
    "\n",
    "data3"
   ]
  },
  {
   "cell_type": "markdown",
   "metadata": {},
   "source": [
    "### convert"
   ]
  },
  {
   "cell_type": "code",
   "execution_count": 43,
   "metadata": {},
   "outputs": [],
   "source": [
    "def convert(a):\n",
    "    c = {'०':'0','१':'1','२':'2','३':'3','४':'4','५':'5','६':'6','७':'7','८':'8','९':'9',',':''}\n",
    "    for key,value in c.items():\n",
    "        a = a.replace(key,value)\n",
    "        \n",
    "    return a"
   ]
  },
  {
   "cell_type": "code",
   "execution_count": 38,
   "metadata": {},
   "outputs": [],
   "source": [
    "def remove_comma(a):\n",
    "    a=a.replace(',','')"
   ]
  },
  {
   "cell_type": "code",
   "execution_count": 44,
   "metadata": {},
   "outputs": [
    {
     "data": {
      "text/plain": [
       "'18045568'"
      ]
     },
     "execution_count": 44,
     "metadata": {},
     "output_type": "execute_result"
    }
   ],
   "source": [
    "convert('१८,०४५,५६८')\n"
   ]
  },
  {
   "cell_type": "code",
   "execution_count": 45,
   "metadata": {},
   "outputs": [],
   "source": [
    "for i in data.columns:\n",
    "    data[i] = data[i].replace(',','')\n",
    "    data[i]=data[i].apply(lambda x: convert(x))"
   ]
  },
  {
   "cell_type": "code",
   "execution_count": 46,
   "metadata": {},
   "outputs": [],
   "source": [
    "for i in ['कुल संक्रमित','जम्मा मृत्यु','निको भएको']:\n",
    "    data[i]=pd.to_numeric(data[i])"
   ]
  },
  {
   "cell_type": "code",
   "execution_count": 47,
   "metadata": {},
   "outputs": [
    {
     "name": "stdout",
     "output_type": "stream",
     "text": [
      "<class 'pandas.core.frame.DataFrame'>\n",
      "Index: 77 entries, अछाम to रुकुम पश्चिम\n",
      "Data columns (total 3 columns):\n",
      "कुल संक्रमित    77 non-null int64\n",
      "जम्मा मृत्यु    77 non-null int64\n",
      "निको भएको       77 non-null int64\n",
      "dtypes: int64(3)\n",
      "memory usage: 2.4+ KB\n"
     ]
    }
   ],
   "source": [
    "data.info()"
   ]
  },
  {
   "cell_type": "code",
   "execution_count": 48,
   "metadata": {},
   "outputs": [
    {
     "data": {
      "text/html": [
       "<div>\n",
       "<style scoped>\n",
       "    .dataframe tbody tr th:only-of-type {\n",
       "        vertical-align: middle;\n",
       "    }\n",
       "\n",
       "    .dataframe tbody tr th {\n",
       "        vertical-align: top;\n",
       "    }\n",
       "\n",
       "    .dataframe thead th {\n",
       "        text-align: right;\n",
       "    }\n",
       "</style>\n",
       "<table border=\"1\" class=\"dataframe\">\n",
       "  <thead>\n",
       "    <tr style=\"text-align: right;\">\n",
       "      <th></th>\n",
       "      <th>कुल संक्रमित</th>\n",
       "      <th>जम्मा मृत्यु</th>\n",
       "      <th>निको भएको</th>\n",
       "    </tr>\n",
       "  </thead>\n",
       "  <tbody>\n",
       "    <tr>\n",
       "      <td>अछाम</td>\n",
       "      <td>646</td>\n",
       "      <td>1</td>\n",
       "      <td>7</td>\n",
       "    </tr>\n",
       "    <tr>\n",
       "      <td>अर्घाखाँची</td>\n",
       "      <td>341</td>\n",
       "      <td>2</td>\n",
       "      <td>2</td>\n",
       "    </tr>\n",
       "    <tr>\n",
       "      <td>बाग्लुङ</td>\n",
       "      <td>226</td>\n",
       "      <td>1</td>\n",
       "      <td>13</td>\n",
       "    </tr>\n",
       "    <tr>\n",
       "      <td>बैतडी</td>\n",
       "      <td>276</td>\n",
       "      <td>0</td>\n",
       "      <td>5</td>\n",
       "    </tr>\n",
       "    <tr>\n",
       "      <td>बझाङ</td>\n",
       "      <td>173</td>\n",
       "      <td>0</td>\n",
       "      <td>1</td>\n",
       "    </tr>\n",
       "    <tr>\n",
       "      <td>...</td>\n",
       "      <td>...</td>\n",
       "      <td>...</td>\n",
       "      <td>...</td>\n",
       "    </tr>\n",
       "    <tr>\n",
       "      <td>उदयपुर</td>\n",
       "      <td>82</td>\n",
       "      <td>0</td>\n",
       "      <td>38</td>\n",
       "    </tr>\n",
       "    <tr>\n",
       "      <td>काठमाडौं</td>\n",
       "      <td>245</td>\n",
       "      <td>3</td>\n",
       "      <td>29</td>\n",
       "    </tr>\n",
       "    <tr>\n",
       "      <td>भक्तपुर</td>\n",
       "      <td>46</td>\n",
       "      <td>0</td>\n",
       "      <td>8</td>\n",
       "    </tr>\n",
       "    <tr>\n",
       "      <td>ललितपुर</td>\n",
       "      <td>77</td>\n",
       "      <td>2</td>\n",
       "      <td>2</td>\n",
       "    </tr>\n",
       "    <tr>\n",
       "      <td>रुकुम पश्चिम</td>\n",
       "      <td>38</td>\n",
       "      <td>0</td>\n",
       "      <td>0</td>\n",
       "    </tr>\n",
       "  </tbody>\n",
       "</table>\n",
       "<p>77 rows × 3 columns</p>\n",
       "</div>"
      ],
      "text/plain": [
       "              कुल संक्रमित  जम्मा मृत्यु  निको भएको\n",
       "अछाम                   646             1          7\n",
       "अर्घाखाँची             341             2          2\n",
       "बाग्लुङ                226             1         13\n",
       "बैतडी                  276             0          5\n",
       "बझाङ                   173             0          1\n",
       "...                    ...           ...        ...\n",
       "उदयपुर                  82             0         38\n",
       "काठमाडौं               245             3         29\n",
       "भक्तपुर                 46             0          8\n",
       "ललितपुर                 77             2          2\n",
       "रुकुम पश्चिम            38             0          0\n",
       "\n",
       "[77 rows x 3 columns]"
      ]
     },
     "execution_count": 48,
     "metadata": {},
     "output_type": "execute_result"
    }
   ],
   "source": [
    "data"
   ]
  },
  {
   "cell_type": "code",
   "execution_count": 49,
   "metadata": {},
   "outputs": [],
   "source": [
    "data2.fillna(\"\",inplace=True)"
   ]
  },
  {
   "cell_type": "code",
   "execution_count": 50,
   "metadata": {},
   "outputs": [],
   "source": [
    "for i in data2.columns:\n",
    "    if i == '':\n",
    "        continue\n",
    "    data2[i]=data2[i].apply(lambda x: convert(x))\n",
    "    "
   ]
  },
  {
   "cell_type": "code",
   "execution_count": 51,
   "metadata": {},
   "outputs": [
    {
     "data": {
      "text/html": [
       "<div>\n",
       "<style scoped>\n",
       "    .dataframe tbody tr th:only-of-type {\n",
       "        vertical-align: middle;\n",
       "    }\n",
       "\n",
       "    .dataframe tbody tr th {\n",
       "        vertical-align: top;\n",
       "    }\n",
       "\n",
       "    .dataframe thead th {\n",
       "        text-align: right;\n",
       "    }\n",
       "</style>\n",
       "<table border=\"1\" class=\"dataframe\">\n",
       "  <thead>\n",
       "    <tr style=\"text-align: right;\">\n",
       "      <th></th>\n",
       "      <th>\\tनेपाल</th>\n",
       "      <th>\\tविश्व</th>\n",
       "    </tr>\n",
       "  </thead>\n",
       "  <tbody>\n",
       "    <tr>\n",
       "      <td>जम्मा परीक्षण</td>\n",
       "      <td>382409</td>\n",
       "      <td></td>\n",
       "    </tr>\n",
       "    <tr>\n",
       "      <td>जम्मा संक्रमित</td>\n",
       "      <td>20086</td>\n",
       "      <td>18045568</td>\n",
       "    </tr>\n",
       "    <tr>\n",
       "      <td>कूल मृत्यु</td>\n",
       "      <td>56</td>\n",
       "      <td>689209</td>\n",
       "    </tr>\n",
       "    <tr>\n",
       "      <td>निको भएको</td>\n",
       "      <td>14492</td>\n",
       "      <td>11343779</td>\n",
       "    </tr>\n",
       "  </tbody>\n",
       "</table>\n",
       "</div>"
      ],
      "text/plain": [
       "               \\tनेपाल   \\tविश्व\n",
       "जम्मा परीक्षण   382409          \n",
       "जम्मा संक्रमित   20086  18045568\n",
       "कूल मृत्यु          56    689209\n",
       "निको भएको        14492  11343779"
      ]
     },
     "execution_count": 51,
     "metadata": {},
     "output_type": "execute_result"
    }
   ],
   "source": [
    "data2"
   ]
  },
  {
   "cell_type": "code",
   "execution_count": 52,
   "metadata": {},
   "outputs": [
    {
     "name": "stdout",
     "output_type": "stream",
     "text": [
      "<class 'pandas.core.frame.DataFrame'>\n",
      "Index: 4 entries, जम्मा परीक्षण to निको भएको\n",
      "Data columns (total 2 columns):\n",
      "\tनेपाल    4 non-null object\n",
      "\tविश्व    4 non-null object\n",
      "dtypes: object(2)\n",
      "memory usage: 256.0+ bytes\n"
     ]
    }
   ],
   "source": [
    "data2.info()\n"
   ]
  },
  {
   "cell_type": "code",
   "execution_count": 53,
   "metadata": {},
   "outputs": [],
   "source": [
    "for i in data2.columns:\n",
    "    data2[i]=pd.to_numeric(data2[i])\n",
    "    "
   ]
  },
  {
   "cell_type": "code",
   "execution_count": 54,
   "metadata": {},
   "outputs": [
    {
     "data": {
      "text/html": [
       "<div>\n",
       "<style scoped>\n",
       "    .dataframe tbody tr th:only-of-type {\n",
       "        vertical-align: middle;\n",
       "    }\n",
       "\n",
       "    .dataframe tbody tr th {\n",
       "        vertical-align: top;\n",
       "    }\n",
       "\n",
       "    .dataframe thead th {\n",
       "        text-align: right;\n",
       "    }\n",
       "</style>\n",
       "<table border=\"1\" class=\"dataframe\">\n",
       "  <thead>\n",
       "    <tr style=\"text-align: right;\">\n",
       "      <th></th>\n",
       "      <th>\\tनेपाल</th>\n",
       "      <th>\\tविश्व</th>\n",
       "    </tr>\n",
       "  </thead>\n",
       "  <tbody>\n",
       "    <tr>\n",
       "      <td>जम्मा परीक्षण</td>\n",
       "      <td>382409</td>\n",
       "      <td>NaN</td>\n",
       "    </tr>\n",
       "    <tr>\n",
       "      <td>जम्मा संक्रमित</td>\n",
       "      <td>20086</td>\n",
       "      <td>18045568.0</td>\n",
       "    </tr>\n",
       "    <tr>\n",
       "      <td>कूल मृत्यु</td>\n",
       "      <td>56</td>\n",
       "      <td>689209.0</td>\n",
       "    </tr>\n",
       "    <tr>\n",
       "      <td>निको भएको</td>\n",
       "      <td>14492</td>\n",
       "      <td>11343779.0</td>\n",
       "    </tr>\n",
       "  </tbody>\n",
       "</table>\n",
       "</div>"
      ],
      "text/plain": [
       "                \\tनेपाल     \\tविश्व\n",
       "जम्मा परीक्षण    382409         NaN\n",
       "जम्मा संक्रमित    20086  18045568.0\n",
       "कूल मृत्यु           56    689209.0\n",
       "निको भएको         14492  11343779.0"
      ]
     },
     "execution_count": 54,
     "metadata": {},
     "output_type": "execute_result"
    }
   ],
   "source": [
    "data2"
   ]
  },
  {
   "cell_type": "code",
   "execution_count": null,
   "metadata": {},
   "outputs": [],
   "source": []
  }
 ],
 "metadata": {
  "kernelspec": {
   "display_name": "Python 3",
   "language": "python",
   "name": "python3"
  },
  "language_info": {
   "codemirror_mode": {
    "name": "ipython",
    "version": 3
   },
   "file_extension": ".py",
   "mimetype": "text/x-python",
   "name": "python",
   "nbconvert_exporter": "python",
   "pygments_lexer": "ipython3",
   "version": "3.6.9"
  }
 },
 "nbformat": 4,
 "nbformat_minor": 2
}
