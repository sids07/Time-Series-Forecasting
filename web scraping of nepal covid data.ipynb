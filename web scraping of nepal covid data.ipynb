{
 "cells": [
  {
   "cell_type": "code",
   "execution_count": 1,
   "metadata": {},
   "outputs": [],
   "source": [
    "import requests\n",
    "import numpy as np\n",
    "import pandas as pd\n",
    "\n",
    "from bs4 import BeautifulSoup"
   ]
  },
  {
   "cell_type": "markdown",
   "metadata": {},
   "source": [
    "### See Web Page"
   ]
  },
  {
   "cell_type": "code",
   "execution_count": 2,
   "metadata": {},
   "outputs": [],
   "source": [
    "URL =  \"https://coronanepal.live/\"\n",
    "\n",
    "html_page = requests.get(URL).text"
   ]
  },
  {
   "cell_type": "code",
   "execution_count": 3,
   "metadata": {},
   "outputs": [],
   "source": [
    "#can uncomment below text to see output\n",
    "#html_page"
   ]
  },
  {
   "cell_type": "markdown",
   "metadata": {},
   "source": [
    "### Convert them into html format\n",
    "\n",
    "i.e. < !DOCTYPE html > type"
   ]
  },
  {
   "cell_type": "code",
   "execution_count": 4,
   "metadata": {},
   "outputs": [],
   "source": [
    "soup = BeautifulSoup(html_page,'html.parser')\n",
    "#print(soup)\n"
   ]
  },
  {
   "cell_type": "markdown",
   "metadata": {},
   "source": [
    "#### Now on the site we want to scrap we must inspect the page i.e. F12 and find out the id of the table we want to scrape"
   ]
  },
  {
   "cell_type": "code",
   "execution_count": 5,
   "metadata": {},
   "outputs": [],
   "source": [
    "#example is the html id of the table we want to scrape\n",
    "get_table = soup.find(\"table\",id='example')\n",
    "\n",
    "#print(get_table)"
   ]
  },
  {
   "cell_type": "code",
   "execution_count": 6,
   "metadata": {},
   "outputs": [],
   "source": [
    "#geting body under tag <tr> and </tr>\n",
    "get_table_data = get_table.tbody.find_all(\"tr\")\n",
    "\n",
    "#get_table_data"
   ]
  },
  {
   "cell_type": "code",
   "execution_count": 7,
   "metadata": {},
   "outputs": [
    {
     "data": {
      "text/html": [
       "<div>\n",
       "<style scoped>\n",
       "    .dataframe tbody tr th:only-of-type {\n",
       "        vertical-align: middle;\n",
       "    }\n",
       "\n",
       "    .dataframe tbody tr th {\n",
       "        vertical-align: top;\n",
       "    }\n",
       "\n",
       "    .dataframe thead th {\n",
       "        text-align: right;\n",
       "    }\n",
       "</style>\n",
       "<table border=\"1\" class=\"dataframe\">\n",
       "  <thead>\n",
       "    <tr style=\"text-align: right;\">\n",
       "      <th></th>\n",
       "      <th>कुल संक्रमित</th>\n",
       "      <th>जम्मा मृत्यु</th>\n",
       "      <th>निको भएको</th>\n",
       "    </tr>\n",
       "  </thead>\n",
       "  <tbody>\n",
       "    <tr>\n",
       "      <td>अछाम</td>\n",
       "      <td>६४६</td>\n",
       "      <td>१</td>\n",
       "      <td>७</td>\n",
       "    </tr>\n",
       "    <tr>\n",
       "      <td>अर्घाखाँची</td>\n",
       "      <td>३४१</td>\n",
       "      <td>२</td>\n",
       "      <td>२</td>\n",
       "    </tr>\n",
       "    <tr>\n",
       "      <td>बाग्लुङ</td>\n",
       "      <td>२२६</td>\n",
       "      <td>१</td>\n",
       "      <td>१३</td>\n",
       "    </tr>\n",
       "    <tr>\n",
       "      <td>बैतडी</td>\n",
       "      <td>२७६</td>\n",
       "      <td>०</td>\n",
       "      <td>५</td>\n",
       "    </tr>\n",
       "    <tr>\n",
       "      <td>बझाङ</td>\n",
       "      <td>१७३</td>\n",
       "      <td>०</td>\n",
       "      <td>१</td>\n",
       "    </tr>\n",
       "    <tr>\n",
       "      <td>...</td>\n",
       "      <td>...</td>\n",
       "      <td>...</td>\n",
       "      <td>...</td>\n",
       "    </tr>\n",
       "    <tr>\n",
       "      <td>उदयपुर</td>\n",
       "      <td>८२</td>\n",
       "      <td>०</td>\n",
       "      <td>३८</td>\n",
       "    </tr>\n",
       "    <tr>\n",
       "      <td>काठमाडौं</td>\n",
       "      <td>२४५</td>\n",
       "      <td>३</td>\n",
       "      <td>२९</td>\n",
       "    </tr>\n",
       "    <tr>\n",
       "      <td>भक्तपुर</td>\n",
       "      <td>४६</td>\n",
       "      <td>०</td>\n",
       "      <td>८</td>\n",
       "    </tr>\n",
       "    <tr>\n",
       "      <td>ललितपुर</td>\n",
       "      <td>७७</td>\n",
       "      <td>२</td>\n",
       "      <td>२</td>\n",
       "    </tr>\n",
       "    <tr>\n",
       "      <td>रुकुम पश्चिम</td>\n",
       "      <td>३८</td>\n",
       "      <td>०</td>\n",
       "      <td>०</td>\n",
       "    </tr>\n",
       "  </tbody>\n",
       "</table>\n",
       "<p>77 rows × 3 columns</p>\n",
       "</div>"
      ],
      "text/plain": [
       "             कुल संक्रमित जम्मा मृत्यु निको भएको\n",
       "अछाम                 ६४६           १          ७ \n",
       "अर्घाखाँची           ३४१           २          २ \n",
       "बाग्लुङ              २२६           १         १३ \n",
       "बैतडी                २७६           ०          ५ \n",
       "बझाङ                 १७३           ०          १ \n",
       "...                   ...          ...       ...\n",
       "उदयपुर                ८२           ०         ३८ \n",
       "काठमाडौं             २४५           ३         २९ \n",
       "भक्तपुर               ४६           ०          ८ \n",
       "ललितपुर               ७७           २          २ \n",
       "रुकुम पश्चिम          ३८           ०          ० \n",
       "\n",
       "[77 rows x 3 columns]"
      ]
     },
     "execution_count": 7,
     "metadata": {},
     "output_type": "execute_result"
    }
   ],
   "source": [
    "#for easiness of converting to dataframe we chose dic\n",
    "dic = {}\n",
    "\n",
    "for i in range(len(get_table_data)):\n",
    "    #all td is one digit list so [0] will bring out the value and string gives the required district name\n",
    "    key = get_table_data[i].find_all(\"td\")[0].string\n",
    "    #print(key)\n",
    "    \n",
    "    #gives all the values including some unrequired value but it can be easily modified by pandas \n",
    "    values = [a.string for a in get_table_data[i].find_all(\"td\")]\n",
    "    #print(key,values)\n",
    "    dic[key] = values\n",
    "    \n",
    "data=pd.DataFrame(dic).iloc[3:,:].T   \n",
    "data.index_name='जिल्ला'\n",
    "columns_name = ['कुल संक्रमित','जम्मा मृत्यु','निको भएको']\n",
    "data.columns = columns_name\n",
    "data"
   ]
  },
  {
   "cell_type": "code",
   "execution_count": 8,
   "metadata": {},
   "outputs": [
    {
     "data": {
      "text/html": [
       "<div>\n",
       "<style scoped>\n",
       "    .dataframe tbody tr th:only-of-type {\n",
       "        vertical-align: middle;\n",
       "    }\n",
       "\n",
       "    .dataframe tbody tr th {\n",
       "        vertical-align: top;\n",
       "    }\n",
       "\n",
       "    .dataframe thead th {\n",
       "        text-align: right;\n",
       "    }\n",
       "</style>\n",
       "<table border=\"1\" class=\"dataframe\">\n",
       "  <thead>\n",
       "    <tr style=\"text-align: right;\">\n",
       "      <th></th>\n",
       "      <th>कुल संक्रमित</th>\n",
       "      <th>जम्मा मृत्यु</th>\n",
       "      <th>निको भएको</th>\n",
       "    </tr>\n",
       "  </thead>\n",
       "  <tbody>\n",
       "    <tr>\n",
       "      <td>अछाम</td>\n",
       "      <td>६४६</td>\n",
       "      <td>१</td>\n",
       "      <td>७</td>\n",
       "    </tr>\n",
       "    <tr>\n",
       "      <td>अर्घाखाँची</td>\n",
       "      <td>३४१</td>\n",
       "      <td>२</td>\n",
       "      <td>२</td>\n",
       "    </tr>\n",
       "    <tr>\n",
       "      <td>बाग्लुङ</td>\n",
       "      <td>२२६</td>\n",
       "      <td>१</td>\n",
       "      <td>१३</td>\n",
       "    </tr>\n",
       "    <tr>\n",
       "      <td>बैतडी</td>\n",
       "      <td>२७६</td>\n",
       "      <td>०</td>\n",
       "      <td>५</td>\n",
       "    </tr>\n",
       "    <tr>\n",
       "      <td>बझाङ</td>\n",
       "      <td>१७३</td>\n",
       "      <td>०</td>\n",
       "      <td>१</td>\n",
       "    </tr>\n",
       "  </tbody>\n",
       "</table>\n",
       "</div>"
      ],
      "text/plain": [
       "           कुल संक्रमित जम्मा मृत्यु निको भएको\n",
       "अछाम               ६४६           १          ७ \n",
       "अर्घाखाँची         ३४१           २          २ \n",
       "बाग्लुङ            २२६           १         १३ \n",
       "बैतडी              २७६           ०          ५ \n",
       "बझाङ               १७३           ०          १ "
      ]
     },
     "execution_count": 8,
     "metadata": {},
     "output_type": "execute_result"
    }
   ],
   "source": [
    "data.head()"
   ]
  },
  {
   "cell_type": "code",
   "execution_count": 9,
   "metadata": {},
   "outputs": [
    {
     "data": {
      "text/html": [
       "<div>\n",
       "<style scoped>\n",
       "    .dataframe tbody tr th:only-of-type {\n",
       "        vertical-align: middle;\n",
       "    }\n",
       "\n",
       "    .dataframe tbody tr th {\n",
       "        vertical-align: top;\n",
       "    }\n",
       "\n",
       "    .dataframe thead th {\n",
       "        text-align: right;\n",
       "    }\n",
       "</style>\n",
       "<table border=\"1\" class=\"dataframe\">\n",
       "  <thead>\n",
       "    <tr style=\"text-align: right;\">\n",
       "      <th></th>\n",
       "      <th>कुल संक्रमित</th>\n",
       "      <th>जम्मा मृत्यु</th>\n",
       "      <th>निको भएको</th>\n",
       "    </tr>\n",
       "  </thead>\n",
       "  <tbody>\n",
       "    <tr>\n",
       "      <td>उदयपुर</td>\n",
       "      <td>८२</td>\n",
       "      <td>०</td>\n",
       "      <td>३८</td>\n",
       "    </tr>\n",
       "    <tr>\n",
       "      <td>काठमाडौं</td>\n",
       "      <td>२४५</td>\n",
       "      <td>३</td>\n",
       "      <td>२९</td>\n",
       "    </tr>\n",
       "    <tr>\n",
       "      <td>भक्तपुर</td>\n",
       "      <td>४६</td>\n",
       "      <td>०</td>\n",
       "      <td>८</td>\n",
       "    </tr>\n",
       "    <tr>\n",
       "      <td>ललितपुर</td>\n",
       "      <td>७७</td>\n",
       "      <td>२</td>\n",
       "      <td>२</td>\n",
       "    </tr>\n",
       "    <tr>\n",
       "      <td>रुकुम पश्चिम</td>\n",
       "      <td>३८</td>\n",
       "      <td>०</td>\n",
       "      <td>०</td>\n",
       "    </tr>\n",
       "  </tbody>\n",
       "</table>\n",
       "</div>"
      ],
      "text/plain": [
       "             कुल संक्रमित जम्मा मृत्यु निको भएको\n",
       "उदयपुर                ८२           ०         ३८ \n",
       "काठमाडौं             २४५           ३         २९ \n",
       "भक्तपुर               ४६           ०          ८ \n",
       "ललितपुर               ७७           २          २ \n",
       "रुकुम पश्चिम          ३८           ०          ० "
      ]
     },
     "execution_count": 9,
     "metadata": {},
     "output_type": "execute_result"
    }
   ],
   "source": [
    "data.tail()"
   ]
  },
  {
   "cell_type": "code",
   "execution_count": 10,
   "metadata": {},
   "outputs": [
    {
     "name": "stdout",
     "output_type": "stream",
     "text": [
      "<class 'pandas.core.frame.DataFrame'>\n",
      "Index: 77 entries, अछाम to रुकुम पश्चिम\n",
      "Data columns (total 3 columns):\n",
      "कुल संक्रमित    77 non-null object\n",
      "जम्मा मृत्यु    77 non-null object\n",
      "निको भएको       77 non-null object\n",
      "dtypes: object(3)\n",
      "memory usage: 2.4+ KB\n"
     ]
    }
   ],
   "source": [
    "data.info()"
   ]
  },
  {
   "cell_type": "code",
   "execution_count": 11,
   "metadata": {},
   "outputs": [
    {
     "data": {
      "text/html": [
       "<div>\n",
       "<style scoped>\n",
       "    .dataframe tbody tr th:only-of-type {\n",
       "        vertical-align: middle;\n",
       "    }\n",
       "\n",
       "    .dataframe tbody tr th {\n",
       "        vertical-align: top;\n",
       "    }\n",
       "\n",
       "    .dataframe thead th {\n",
       "        text-align: right;\n",
       "    }\n",
       "</style>\n",
       "<table border=\"1\" class=\"dataframe\">\n",
       "  <thead>\n",
       "    <tr style=\"text-align: right;\">\n",
       "      <th></th>\n",
       "      <th>कुल संक्रमित</th>\n",
       "      <th>जम्मा मृत्यु</th>\n",
       "      <th>निको भएको</th>\n",
       "    </tr>\n",
       "  </thead>\n",
       "  <tbody>\n",
       "    <tr>\n",
       "      <td>count</td>\n",
       "      <td>77</td>\n",
       "      <td>77</td>\n",
       "      <td>77</td>\n",
       "    </tr>\n",
       "    <tr>\n",
       "      <td>unique</td>\n",
       "      <td>71</td>\n",
       "      <td>5</td>\n",
       "      <td>44</td>\n",
       "    </tr>\n",
       "    <tr>\n",
       "      <td>top</td>\n",
       "      <td>६</td>\n",
       "      <td>०</td>\n",
       "      <td>१</td>\n",
       "    </tr>\n",
       "    <tr>\n",
       "      <td>freq</td>\n",
       "      <td>3</td>\n",
       "      <td>52</td>\n",
       "      <td>8</td>\n",
       "    </tr>\n",
       "  </tbody>\n",
       "</table>\n",
       "</div>"
      ],
      "text/plain": [
       "       कुल संक्रमित जम्मा मृत्यु निको भएको\n",
       "count            77           77        77\n",
       "unique           71            5        44\n",
       "top              ६           ०          १ \n",
       "freq              3           52         8"
      ]
     },
     "execution_count": 11,
     "metadata": {},
     "output_type": "execute_result"
    }
   ],
   "source": [
    "data.describe()"
   ]
  },
  {
   "cell_type": "code",
   "execution_count": null,
   "metadata": {},
   "outputs": [],
   "source": []
  }
 ],
 "metadata": {
  "kernelspec": {
   "display_name": "Python 3",
   "language": "python",
   "name": "python3"
  },
  "language_info": {
   "codemirror_mode": {
    "name": "ipython",
    "version": 3
   },
   "file_extension": ".py",
   "mimetype": "text/x-python",
   "name": "python",
   "nbconvert_exporter": "python",
   "pygments_lexer": "ipython3",
   "version": "3.6.9"
  }
 },
 "nbformat": 4,
 "nbformat_minor": 2
}
